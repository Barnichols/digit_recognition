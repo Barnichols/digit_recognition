{
 "cells": [
  {
   "cell_type": "code",
   "execution_count": 1,
   "metadata": {
    "collapsed": false
   },
   "outputs": [
    {
     "name": "stderr",
     "output_type": "stream",
     "text": [
      "/home/michael/anaconda2/lib/python2.7/site-packages/matplotlib/font_manager.py:273: UserWarning: Matplotlib is building the font cache using fc-list. This may take a moment.\n",
      "  warnings.warn('Matplotlib is building the font cache using fc-list. This may take a moment.')\n"
     ]
    }
   ],
   "source": [
    "import tensorflow as tf\n",
    "import numpy as np\n",
    "import pandas as pd\n",
    "import matplotlib.pyplot as plt\n",
    "from sklearn.cross_validation import train_test_split\n",
    "\n",
    "%matplotlib inline"
   ]
  },
  {
   "cell_type": "code",
   "execution_count": 2,
   "metadata": {
    "collapsed": false
   },
   "outputs": [],
   "source": [
    "def batch_data(x, y, size):\n",
    "    perm = np.arange(len(x))\n",
    "    np.random.shuffle(perm)\n",
    "    x = x[perm]\n",
    "    y = y[perm]\n",
    "    return x[:size],y[:size]"
   ]
  },
  {
   "cell_type": "code",
   "execution_count": 3,
   "metadata": {
    "collapsed": false,
    "scrolled": true
   },
   "outputs": [],
   "source": [
    "df = pd.read_csv('data/train.csv')\n",
    "images = df[df.columns[1:]]\n",
    "given_label = df['label']\n",
    "\n",
    "images = images.values\n",
    "images = np.multiply(images, 1.0 / 255.0)\n",
    "labels = pd.get_dummies(given_label).values"
   ]
  },
  {
   "cell_type": "code",
   "execution_count": 4,
   "metadata": {
    "collapsed": false
   },
   "outputs": [],
   "source": [
    "X_train, X_test, y_train, y_test = train_test_split(images,\n",
    "                                                    labels,\n",
    "                                                    test_size = .25,random_state=4444)"
   ]
  },
  {
   "cell_type": "markdown",
   "metadata": {},
   "source": [
    "# Convolutional NN"
   ]
  },
  {
   "cell_type": "markdown",
   "metadata": {},
   "source": [
    "### Weights, Biases, Convolution, Pooling for the Rectified Linear Units(Neuron)\n"
   ]
  },
  {
   "cell_type": "code",
   "execution_count": 5,
   "metadata": {
    "collapsed": true
   },
   "outputs": [],
   "source": [
    "def weight_variable(shape):\n",
    "    initial = tf.truncated_normal(shape, stddev=0.1)\n",
    "    return tf.Variable(initial, name='weights')\n",
    "\n",
    "def bias_variable(shape):\n",
    "    initial = tf.constant(0.1, shape=shape)\n",
    "    return tf.Variable(initial, name='biases')\n",
    "\n",
    "def conv2d(x, W):\n",
    "    return tf.nn.conv2d(x, W, strides=[1, 1, 1, 1], padding='SAME', name='convolution')\n",
    "\n",
    "def max_pool_2x2(x):\n",
    "    return tf.nn.max_pool(x, ksize=[1, 2, 2, 1],\n",
    "                          strides=[1, 2, 2, 1], padding='SAME', name='pool')"
   ]
  },
  {
   "cell_type": "code",
   "execution_count": 6,
   "metadata": {
    "collapsed": true
   },
   "outputs": [],
   "source": [
    "sess = tf.InteractiveSession()"
   ]
  },
  {
   "cell_type": "code",
   "execution_count": null,
   "metadata": {
    "collapsed": false,
    "scrolled": true
   },
   "outputs": [
    {
     "name": "stdout",
     "output_type": "stream",
     "text": [
      "step 0, training accuracy 0.18\n",
      "step 100, training accuracy 0.86\n",
      "step 200, training accuracy 0.96\n",
      "step 300, training accuracy 0.96"
     ]
    }
   ],
   "source": [
    "with tf.Graph().as_default():\n",
    "    x = tf.placeholder(tf.float32, [None, 784])\n",
    "    W = tf.Variable(tf.zeros([784, 10]))\n",
    "    b = tf.Variable(tf.zeros([10]))\n",
    "    y_ = tf.placeholder(tf.float32, [None, 10])\n",
    "    \n",
    "#Inference\n",
    "    with tf.name_scope('hidden1'):\n",
    "        W_conv1 = weight_variable([5, 5, 1, 32])\n",
    "        b_conv1 = bias_variable([32])\n",
    "        x_image = tf.reshape(x, [-1,28,28,1])\n",
    "        hidden1 = tf.nn.relu(conv2d(x_image, W_conv1) + b_conv1)\n",
    "\n",
    "    with tf.name_scope('hidden2'):\n",
    "        h_pool1 = max_pool_2x2(hidden1)\n",
    "        W_conv2 = weight_variable([5, 5, 32, 64])\n",
    "        b_conv2 = bias_variable([64])\n",
    "        h_conv2 = tf.nn.relu(conv2d(h_pool1, W_conv2) + b_conv2)\n",
    "\n",
    "    with tf.name_scope('fully_connected'):\n",
    "        h_pool2 = max_pool_2x2(h_conv2)\n",
    "        W_fc1 = weight_variable([7 * 7 * 64, 1024])\n",
    "        b_fc1 = bias_variable([1024])\n",
    "        h_pool2_flat = tf.reshape(h_pool2, [-1, 7*7*64])\n",
    "        fully_connected = tf.nn.relu(tf.matmul(h_pool2_flat, W_fc1) + b_fc1)\n",
    "\n",
    "    with tf.name_scope('dropout'):\n",
    "        keep_prob = tf.placeholder(tf.float32)\n",
    "        dropout = tf.nn.dropout(fully_connected, keep_prob)\n",
    "\n",
    "    with tf.name_scope('softmax'):\n",
    "        W_fc2 = weight_variable([1024, 10])\n",
    "        b_fc2 = bias_variable([10])\n",
    "        y_conv=tf.nn.softmax(tf.matmul(dropout, W_fc2) + b_fc2)\n",
    "\n",
    "#Loss\n",
    "    cross_entropy = -tf.reduce_sum(y_*tf.log(y_conv), name='xentropy')\n",
    "    \n",
    "#Training\n",
    "    tf.scalar_summary(cross_entropy.op.name, cross_entropy)\n",
    "    global_step=tf.Variable(0,name='global_step',trainable=False)\n",
    "    train_step = tf.train.AdamOptimizer(1e-4).minimize(cross_entropy,global_step=global_step)\n",
    "    \n",
    "#Evaluation\n",
    "    correct_prediction = tf.equal(tf.argmax(y_conv,1), tf.argmax(y_,1))\n",
    "    accuracy = tf.reduce_mean(tf.cast(correct_prediction, tf.float32))\n",
    "\n",
    "#Log Creation\n",
    "    summary_op = tf.merge_all_summaries()\n",
    "    sess = tf.Session()\n",
    "    init = tf.initialize_all_variables()\n",
    "    sess.run(init)\n",
    "    \n",
    "    summary_writer = tf.train.SummaryWriter('tensor_flow_logs',graph_def=sess.graph_def)\n",
    "#TrainingLoop\n",
    "    for i in range(20000):\n",
    "        x_batch, y_batch = batch_data(X_train,y_train,50)\n",
    "        feed_dict = {x: x_batch, y_: y_batch, keep_prob:1.0}\n",
    "        sess.run([train_step,cross_entropy,accuracy],feed_dict=feed_dict)\n",
    "        if i%100 == 0:\n",
    "            acc = sess.run(accuracy, feed_dict={x:x_batch, y_: y_batch, keep_prob: 1.0})\n",
    "            summary_str = sess.run(summary_op, feed_dict=feed_dict)\n",
    "            summary_writer.add_summary(summary_str, i)\n",
    "\n",
    "            print(\"step %d, training accuracy %g\"%(i, acc))"
   ]
  },
  {
   "cell_type": "code",
   "execution_count": 11,
   "metadata": {
    "collapsed": false
   },
   "outputs": [],
   "source": [
    "ac = sess.run(accuracy, feed_dict={x: X_test, y_: y_test, keep_prob: 1.0})"
   ]
  },
  {
   "cell_type": "code",
   "execution_count": 31,
   "metadata": {
    "collapsed": false
   },
   "outputs": [
    {
     "data": {
      "text/plain": [
       "['__call__',\n",
       " '__class__',\n",
       " '__cmp__',\n",
       " '__delattr__',\n",
       " '__doc__',\n",
       " '__format__',\n",
       " '__func__',\n",
       " '__get__',\n",
       " '__getattribute__',\n",
       " '__hash__',\n",
       " '__init__',\n",
       " '__new__',\n",
       " '__reduce__',\n",
       " '__reduce_ex__',\n",
       " '__repr__',\n",
       " '__self__',\n",
       " '__setattr__',\n",
       " '__sizeof__',\n",
       " '__str__',\n",
       " '__subclasshook__',\n",
       " 'im_class',\n",
       " 'im_func',\n",
       " 'im_self']"
      ]
     },
     "execution_count": 31,
     "metadata": {},
     "output_type": "execute_result"
    }
   ],
   "source": [
    "W_fc2."
   ]
  },
  {
   "cell_type": "code",
   "execution_count": 29,
   "metadata": {
    "collapsed": false
   },
   "outputs": [
    {
     "data": {
      "text/plain": [
       "['SaveSliceInfo',\n",
       " '_AsTensor',\n",
       " '_OverloadAllOperators',\n",
       " '_OverloadOperator',\n",
       " '_RunOp',\n",
       " '_TensorConversionFunction',\n",
       " '__abs__',\n",
       " '__add__',\n",
       " '__and__',\n",
       " '__class__',\n",
       " '__delattr__',\n",
       " '__dict__',\n",
       " '__div__',\n",
       " '__doc__',\n",
       " '__floordiv__',\n",
       " '__format__',\n",
       " '__ge__',\n",
       " '__getattribute__',\n",
       " '__getitem__',\n",
       " '__gt__',\n",
       " '__hash__',\n",
       " '__init__',\n",
       " '__invert__',\n",
       " '__le__',\n",
       " '__lt__',\n",
       " '__mod__',\n",
       " '__module__',\n",
       " '__mul__',\n",
       " '__neg__',\n",
       " '__new__',\n",
       " '__or__',\n",
       " '__radd__',\n",
       " '__rand__',\n",
       " '__rdiv__',\n",
       " '__reduce__',\n",
       " '__reduce_ex__',\n",
       " '__repr__',\n",
       " '__rfloordiv__',\n",
       " '__rmod__',\n",
       " '__rmul__',\n",
       " '__ror__',\n",
       " '__rsub__',\n",
       " '__rtruediv__',\n",
       " '__rxor__',\n",
       " '__setattr__',\n",
       " '__sizeof__',\n",
       " '__str__',\n",
       " '__sub__',\n",
       " '__subclasshook__',\n",
       " '__truediv__',\n",
       " '__weakref__',\n",
       " '__xor__',\n",
       " '_as_graph_element',\n",
       " '_initial_value',\n",
       " '_initializer_op',\n",
       " '_save_slice_info',\n",
       " '_set_save_slice_info',\n",
       " '_snapshot',\n",
       " '_variable',\n",
       " 'assign',\n",
       " 'assign_add',\n",
       " 'assign_sub',\n",
       " 'count_up_to',\n",
       " 'device',\n",
       " 'dtype',\n",
       " 'eval',\n",
       " 'get_shape',\n",
       " 'graph',\n",
       " 'initialized_value',\n",
       " 'initializer',\n",
       " 'name',\n",
       " 'op',\n",
       " 'ref',\n",
       " 'scatter_sub',\n",
       " 'value']"
      ]
     },
     "execution_count": 29,
     "metadata": {},
     "output_type": "execute_result"
    }
   ],
   "source": [
    "dir(W_fc2)"
   ]
  },
  {
   "cell_type": "code",
   "execution_count": 12,
   "metadata": {
    "collapsed": false,
    "scrolled": true
   },
   "outputs": [
    {
     "name": "stdout",
     "output_type": "stream",
     "text": [
      "test accuracy 0.988380968571\n"
     ]
    }
   ],
   "source": [
    "print(\"test accuracy {}\".format(ac))"
   ]
  },
  {
   "cell_type": "markdown",
   "metadata": {},
   "source": [
    "# Visualizing Residuals"
   ]
  },
  {
   "cell_type": "code",
   "execution_count": 13,
   "metadata": {
    "collapsed": false
   },
   "outputs": [],
   "source": [
    "y_fit = sess.run(tf.argmax(y_conv,1),feed_dict={x: X_test, keep_prob:1})"
   ]
  },
  {
   "cell_type": "code",
   "execution_count": 14,
   "metadata": {
    "collapsed": true
   },
   "outputs": [],
   "source": [
    "def undummy(arr):\n",
    "    num = []\n",
    "    for i in arr:\n",
    "        for j in range(len(i)):\n",
    "            if i[j]==1.0:\n",
    "                num.append(j)\n",
    "    return num                 "
   ]
  },
  {
   "cell_type": "code",
   "execution_count": 15,
   "metadata": {
    "collapsed": false
   },
   "outputs": [],
   "source": [
    "ys = np.array(undummy(y_test))"
   ]
  },
  {
   "cell_type": "code",
   "execution_count": 32,
   "metadata": {
    "collapsed": true
   },
   "outputs": [],
   "source": [
    "def show_img(i):\n",
    "    boximages = np.array(X_test).reshape(len(X_test),28,28)\n",
    "    print 'Actual:', list(y_test)[i]\n",
    "    print 'Predicted:', list(y_fit)[i]\n",
    "    plt.matshow(boximages[i],cmap=plt.cm.Greys)"
   ]
  },
  {
   "cell_type": "code",
   "execution_count": 16,
   "metadata": {
    "collapsed": false
   },
   "outputs": [],
   "source": [
    "residual_index = [i for i, (val,valb) in enumerate(zip(ys,y_fit)) if val!=valb]"
   ]
  },
  {
   "cell_type": "code",
   "execution_count": 33,
   "metadata": {
    "collapsed": false,
    "scrolled": true
   },
   "outputs": [
    {
     "data": {
      "text/plain": [
       "[50,\n",
       " 73,\n",
       " 94,\n",
       " 152,\n",
       " 229,\n",
       " 234,\n",
       " 355,\n",
       " 457,\n",
       " 487,\n",
       " 528,\n",
       " 601,\n",
       " 792,\n",
       " 990,\n",
       " 1013,\n",
       " 1015,\n",
       " 1193,\n",
       " 1376,\n",
       " 1403,\n",
       " 1417,\n",
       " 1482,\n",
       " 1490,\n",
       " 1513,\n",
       " 1887,\n",
       " 1913,\n",
       " 1917,\n",
       " 2193,\n",
       " 2204,\n",
       " 2208,\n",
       " 2455,\n",
       " 2501,\n",
       " 2584,\n",
       " 3031,\n",
       " 3096,\n",
       " 3243,\n",
       " 3317,\n",
       " 3401,\n",
       " 3432,\n",
       " 3433,\n",
       " 3486,\n",
       " 3651,\n",
       " 3737,\n",
       " 3748,\n",
       " 4027,\n",
       " 4088,\n",
       " 4097,\n",
       " 4202,\n",
       " 4237,\n",
       " 4332,\n",
       " 4351,\n",
       " 4356,\n",
       " 4368,\n",
       " 4575,\n",
       " 4752,\n",
       " 4757,\n",
       " 4776,\n",
       " 4833,\n",
       " 4857,\n",
       " 5064,\n",
       " 5107,\n",
       " 5231,\n",
       " 5282,\n",
       " 5300,\n",
       " 5310,\n",
       " 5347,\n",
       " 5487,\n",
       " 5724,\n",
       " 5850,\n",
       " 5913,\n",
       " 5955,\n",
       " 6015,\n",
       " 6150,\n",
       " 6192,\n",
       " 6200,\n",
       " 6255,\n",
       " 6305,\n",
       " 6789,\n",
       " 6811,\n",
       " 6884,\n",
       " 7047,\n",
       " 7326,\n",
       " 7342,\n",
       " 7409,\n",
       " 7568,\n",
       " 7619,\n",
       " 7629,\n",
       " 7632,\n",
       " 7693,\n",
       " 7767,\n",
       " 7885,\n",
       " 7908,\n",
       " 7943,\n",
       " 8053,\n",
       " 8144,\n",
       " 8267,\n",
       " 8351,\n",
       " 8456,\n",
       " 8509,\n",
       " 8515,\n",
       " 8523,\n",
       " 8567,\n",
       " 8692,\n",
       " 8795,\n",
       " 8805,\n",
       " 9002,\n",
       " 9059,\n",
       " 9181,\n",
       " 9264,\n",
       " 9398,\n",
       " 9540,\n",
       " 9614,\n",
       " 9676,\n",
       " 9838,\n",
       " 9909,\n",
       " 9969,\n",
       " 9988,\n",
       " 10024,\n",
       " 10058,\n",
       " 10147,\n",
       " 10167,\n",
       " 10222,\n",
       " 10371,\n",
       " 10379]"
      ]
     },
     "execution_count": 33,
     "metadata": {},
     "output_type": "execute_result"
    }
   ],
   "source": [
    "residual_index"
   ]
  },
  {
   "cell_type": "code",
   "execution_count": 34,
   "metadata": {
    "collapsed": false
   },
   "outputs": [
    {
     "name": "stdout",
     "output_type": "stream",
     "text": [
      "Actual: [ 0.  0.  0.  0.  0.  0.  0.  0.  1.  0.]\n",
      "Predicted: 9\n"
     ]
    },
    {
     "data": {
      "image/png": "[encoded data removed]",
      "text/plain": [
       "<matplotlib.figure.Figure at 0x7f67bc78d9d0>"
      ]
     },
     "metadata": {},
     "output_type": "display_data"
    }
   ],
   "source": [
    "show_img(50)"
   ]
  },
  {
   "cell_type": "code",
   "execution_count": 17,
   "metadata": {
    "collapsed": true
   },
   "outputs": [],
   "source": [
    "residual = [val!=valb for i, (val,valb) in enumerate(zip(ys,y_fit))]\n",
    "residual = np.array(residual)\n",
    "X_images = np.array(X_test).reshape(len(X_test),28,28)\n",
    "X_residual = X_images[residual]"
   ]
  },
  {
   "cell_type": "code",
   "execution_count": 18,
   "metadata": {
    "collapsed": true
   },
   "outputs": [],
   "source": [
    "def plot_averages(data,actual):\n",
    "    fig = plt.figure(figsize = (10,6))\n",
    "    for i in range(10):\n",
    "        plt.subplot(2,5,i+1).matshow(np.mean(data[np.array(actual==i)], axis=0),cmap=plt.cm.Greys)\n",
    "        plt.title('Number: {}'.format(i))\n",
    "        plt.subplot(2,5,i+1).xaxis.set_ticks_position('bottom')"
   ]
  },
  {
   "cell_type": "code",
   "execution_count": 21,
   "metadata": {
    "collapsed": false
   },
   "outputs": [
    {
     "data": {
      "image/png": "[encoded data removed]",
      "text/plain": [
       "<matplotlib.figure.Figure at 0x7f67d9845490>"
      ]
     },
     "metadata": {},
     "output_type": "display_data"
    }
   ],
   "source": [
    "plot_averages(X_residual,ys[residual])"
   ]
  },
  {
   "cell_type": "markdown",
   "metadata": {},
   "source": [
    "# Confusion"
   ]
  },
  {
   "cell_type": "code",
   "execution_count": 22,
   "metadata": {
    "collapsed": true
   },
   "outputs": [],
   "source": [
    "confusion = np.zeros([10,10])\n",
    "for i,j in zip(ys,y_fit):\n",
    "    confusion[i][j]+=1"
   ]
  },
  {
   "cell_type": "code",
   "execution_count": 23,
   "metadata": {
    "collapsed": true
   },
   "outputs": [],
   "source": [
    "percentage = confusion/np.sum(confusion, axis=1)"
   ]
  },
  {
   "cell_type": "code",
   "execution_count": 24,
   "metadata": {
    "collapsed": true
   },
   "outputs": [],
   "source": [
    "for i in range(10):\n",
    "    percentage[i][i] = 0"
   ]
  },
  {
   "cell_type": "code",
   "execution_count": 25,
   "metadata": {
    "collapsed": false
   },
   "outputs": [
    {
     "data": {
      "image/png": "[encoded data removed]",
      "text/plain": [
       "<matplotlib.figure.Figure at 0x7f67c416acd0>"
      ]
     },
     "metadata": {},
     "output_type": "display_data"
    }
   ],
   "source": [
    "fig, ax = plt.subplots(figsize=(10,10))\n",
    "# plt.figure()\n",
    "c = ax.matshow(percentage,cmap=plt.cm.rainbow)\n",
    "fig.colorbar(c)\n",
    "plt.xticks(range(10))\n",
    "plt.yticks(range(10))\n",
    "plt.xlabel('Predicted Number')\n",
    "plt.ylabel('Actual Number')\n",
    "\n",
    "for (i, j), z in np.ndenumerate(percentage):\n",
    "    ax.text(j, i, '{:0.2f}'.format(z*100), ha='center', va='center')\n",
    "    ax.xaxis.set_ticks_position('bottom')"
   ]
  },
  {
   "cell_type": "code",
   "execution_count": 26,
   "metadata": {
    "collapsed": true
   },
   "outputs": [],
   "source": [
    "from sklearn.metrics import classification_report"
   ]
  },
  {
   "cell_type": "code",
   "execution_count": 27,
   "metadata": {
    "collapsed": false
   },
   "outputs": [
    {
     "name": "stdout",
     "output_type": "stream",
     "text": [
      "             precision    recall  f1-score   support\n",
      "\n",
      "          0    0.99530   0.99437   0.99483      1065\n",
      "          1    0.99570   0.99314   0.99442      1167\n",
      "          2    0.98233   0.99248   0.98738      1064\n",
      "          3    0.99020   0.98406   0.98712      1129\n",
      "          4    0.99206   0.98717   0.98961      1013\n",
      "          5    0.98416   0.99044   0.98729       941\n",
      "          6    0.99019   0.99311   0.99165      1016\n",
      "          7    0.98552   0.99000   0.98776      1100\n",
      "          8    0.97976   0.98274   0.98125       985\n",
      "          9    0.98710   0.97549   0.98126      1020\n",
      "\n",
      "avg / total    0.98840   0.98838   0.98838     10500\n",
      "\n"
     ]
    }
   ],
   "source": [
    "print classification_report(ys,y_fit,digits=5)"
   ]
  },
  {
   "cell_type": "code",
   "execution_count": null,
   "metadata": {
    "collapsed": true
   },
   "outputs": [],
   "source": []
  }
 ],
 "metadata": {
  "kernelspec": {
   "display_name": "Python 2",
   "language": "python",
   "name": "python2"
  },
  "language_info": {
   "codemirror_mode": {
    "name": "ipython",
    "version": 2
   },
   "file_extension": ".py",
   "mimetype": "text/x-python",
   "name": "python",
   "nbconvert_exporter": "python",
   "pygments_lexer": "ipython2",
   "version": "2.7.11"
  }
 },
 "nbformat": 4,
 "nbformat_minor": 0
}
